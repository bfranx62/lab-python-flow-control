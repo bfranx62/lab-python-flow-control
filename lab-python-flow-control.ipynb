{
 "cells": [
  {
   "cell_type": "markdown",
   "id": "d3bfc191-8885-42ee-b0a0-bbab867c6f9f",
   "metadata": {
    "tags": []
   },
   "source": [
    "# Lab | Flow Control"
   ]
  },
  {
   "cell_type": "markdown",
   "id": "3851fcd1-cf98-4653-9c89-e003b7ec9400",
   "metadata": {},
   "source": [
    "## Exercise: Managing Customer Orders Optimized\n",
    "\n",
    "In the last lab, you were starting an online store that sells various products. To ensure smooth operations, you developed a program that manages customer orders and inventory.\n",
    "\n",
    "You did so without using flow control. Let's go a step further and improve this code.\n",
    "\n",
    "Follow the steps below to complete the exercise:\n",
    "\n",
    "1. Look at your code from the lab data structures, and improve repeated code with loops.\n",
    "\n",
    "2. Instead of asking the user to input the name of three products that a customer wants to order, do the following:\n",
    "    \n",
    "    a. Prompt the user to enter the name of a product that a customer wants to order.\n",
    "    \n",
    "    b. Add the product name to the \"customer_orders\" set.\n",
    "    \n",
    "    c. Ask the user if they want to add another product (yes/no).\n",
    "    \n",
    "    d. Continue the loop until the user does not want to add another product.\n",
    "\n",
    "3. Instead of updating the inventory by subtracting 1 from the quantity of each product, only do it for  the products that were ordered (those in \"customer_orders\")."
   ]
  },
  {
   "cell_type": "markdown",
   "id": "5d127ebc",
   "metadata": {},
   "source": []
  },
  {
   "cell_type": "markdown",
   "id": "d654ca53",
   "metadata": {},
   "source": [
    "#### Step 1 - See cells 4 and 11. \n",
    "\n",
    "I already used loops because I wanted to apply everything I could remember from pre-work. I was told by Erin to just copy and paste the code from the data structures lab since I've already fulfilled that requirement of this assignment. \n",
    "\n",
    "#### Step 2 - See cell 7. \n",
    "\n",
    "#### Step 3 - See cell 11. \n",
    "\n",
    "I also already created code that only subtracted from items ordered, so I just copied and pasted that from the data structures lab as well. "
   ]
  },
  {
   "cell_type": "code",
   "execution_count": 1,
   "id": "76be49db",
   "metadata": {},
   "outputs": [],
   "source": [
    "products = ['t-shirt', 'mug', 'hat', 'book', 'keychain']"
   ]
  },
  {
   "cell_type": "code",
   "execution_count": 2,
   "id": "9c949511",
   "metadata": {},
   "outputs": [],
   "source": [
    "inventory = {}   # Remember to use swirly brackets {} for dictionaries, not square brackets []"
   ]
  },
  {
   "cell_type": "code",
   "execution_count": 4,
   "id": "fc3945af",
   "metadata": {},
   "outputs": [],
   "source": [
    "### Step 1 Loop Code\n",
    "\n",
    "for product in products:\n",
    "    amount = int(input(f\"Please input the number of {product}s:\"))\n",
    "    inventory[product] = amount"
   ]
  },
  {
   "cell_type": "code",
   "execution_count": 5,
   "id": "e28b9b11",
   "metadata": {},
   "outputs": [
    {
     "data": {
      "text/plain": [
       "{'t-shirt': 53, 'mug': 54, 'hat': 51, 'book': 59, 'keychain': 58}"
      ]
     },
     "execution_count": 5,
     "metadata": {},
     "output_type": "execute_result"
    }
   ],
   "source": [
    "inventory"
   ]
  },
  {
   "cell_type": "code",
   "execution_count": 6,
   "id": "5090a233",
   "metadata": {},
   "outputs": [],
   "source": [
    "customer_orders = set()"
   ]
  },
  {
   "cell_type": "code",
   "execution_count": 7,
   "id": "1abb5b6e",
   "metadata": {},
   "outputs": [],
   "source": [
    "### Step 2 \n",
    "item = str(input(\"What would you like to order? Please type t-shirt, mug, hat, book, or keychain. \"))\n",
    "customer_orders.add(item)\n",
    "reply = str(input(\"Okay. I've added that to your order. Would you like to order anything else? Please type yes or no. \"))\n",
    "while reply.lower() == \"yes\":\n",
    "    item = str(input(\"What would you like to order? Please type t-shirt, mug, hat, book, or keychain. \"))\n",
    "    customer_orders.add(item)\n",
    "    reply = str(input(\"Okay. I've added that to your order. Would you like to order anything else? Please type yes or no. \"))"
   ]
  },
  {
   "cell_type": "code",
   "execution_count": 8,
   "id": "43712e2c",
   "metadata": {},
   "outputs": [
    {
     "data": {
      "text/plain": [
       "{'book', 'hat', 'mug', 't-shirt'}"
      ]
     },
     "execution_count": 8,
     "metadata": {},
     "output_type": "execute_result"
    }
   ],
   "source": [
    "customer_orders"
   ]
  },
  {
   "cell_type": "code",
   "execution_count": 9,
   "id": "7e03ad4b",
   "metadata": {},
   "outputs": [
    {
     "data": {
      "text/plain": [
       "(4, 80.0)"
      ]
     },
     "execution_count": 9,
     "metadata": {},
     "output_type": "execute_result"
    }
   ],
   "source": [
    "total_products_ordered = len(customer_orders)\n",
    "percentage_ordered = (len(customer_orders)/len(products))*100\n",
    "\n",
    "order_status = (total_products_ordered, percentage_ordered)\n",
    "order_status"
   ]
  },
  {
   "cell_type": "code",
   "execution_count": 10,
   "id": "a7108a1c",
   "metadata": {},
   "outputs": [
    {
     "name": "stdout",
     "output_type": "stream",
     "text": [
      "Order Statistics:\n",
      "Total Products Ordered: 4\n",
      "Percentage of Products Ordered: 80.0%\n"
     ]
    }
   ],
   "source": [
    "print(\"Order Statistics:\")\n",
    "print(\"Total Products Ordered:\", total_products_ordered)\n",
    "print(f\"Percentage of Products Ordered: {percentage_ordered}%\")"
   ]
  },
  {
   "cell_type": "code",
   "execution_count": 11,
   "id": "ddca2370",
   "metadata": {},
   "outputs": [],
   "source": [
    "### Step 1 Loop Code\n",
    "### Step 3 Code that only removes ordered items from inventory. \n",
    "\n",
    "for product in customer_orders:\n",
    "    inventory[product] -= 1    "
   ]
  },
  {
   "cell_type": "code",
   "execution_count": 12,
   "id": "eb7361da",
   "metadata": {},
   "outputs": [
    {
     "data": {
      "text/plain": [
       "{'t-shirt': 52, 'mug': 53, 'hat': 50, 'book': 58, 'keychain': 58}"
      ]
     },
     "execution_count": 12,
     "metadata": {},
     "output_type": "execute_result"
    }
   ],
   "source": [
    "inventory"
   ]
  },
  {
   "cell_type": "code",
   "execution_count": null,
   "id": "707571f3",
   "metadata": {},
   "outputs": [],
   "source": []
  }
 ],
 "metadata": {
  "kernelspec": {
   "display_name": "Python 3 (ipykernel)",
   "language": "python",
   "name": "python3"
  },
  "language_info": {
   "codemirror_mode": {
    "name": "ipython",
    "version": 3
   },
   "file_extension": ".py",
   "mimetype": "text/x-python",
   "name": "python",
   "nbconvert_exporter": "python",
   "pygments_lexer": "ipython3",
   "version": "3.11.7"
  }
 },
 "nbformat": 4,
 "nbformat_minor": 5
}
